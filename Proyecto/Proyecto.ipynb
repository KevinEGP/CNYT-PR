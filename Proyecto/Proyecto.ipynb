{
 "cells": [
  {
   "cell_type": "markdown",
   "metadata": {},
   "source": [
    "# Proyecto Segundo Corte\n",
    "\n",
    "En este proyecto hablaremos de sistemas dinámicos probabilísticos y cuánticos, estos nos permiten simular algunas situaciones de nuestro entorno. En este caso nos enfocaremos en un experimento llamado doble rendija el cual se produce por un fenómeno físico que se da por la naturaleza ondulatoria de la luz. El experimento de la doble rendija consiste en hacer pasar un láser por medio de dos orificios o rendijas en un material que interfiera el paso de la luz del láser, en este caso usamos papel aluminio. En el momento que el láser cruza las rendijas, los fotones de luz se anulan creando espacios en el flejo del láser en una superficie."
   ]
  },
  {
   "cell_type": "markdown",
   "metadata": {},
   "source": [
    "## Experimento de la doble rendija (probabilístico)"
   ]
  },
  {
   "cell_type": "markdown",
   "metadata": {},
   "source": [
    "<img src = \"images/Grafo1.jpg\"\n",
    "     style = \"float:center\"\n",
    "     width = \"100%\"\n",
    "     display = inline/>"
   ]
  },
  {
   "cell_type": "markdown",
   "metadata": {},
   "source": [
    "Las matrices de adyacencia asociadas a este grafo la definimos de la siguiente manera:\n",
    "\\\n",
    "\\\n",
    "\\\n",
    "$$M = \\begin{bmatrix}0&0&0&0&0&0&0&0\n",
    "      \\\\\\frac{1}{2}&0&0&0&0&0&0&0\n",
    "      \\\\\\frac{1}{2}&0&0&0&0&0&0&0\n",
    "      \\\\0&\\frac{1}{3}&0&1&0&0&0&0\n",
    "      \\\\0&\\frac{1}{3}&0&0&1&0&0&0\n",
    "      \\\\0&\\frac{1}{3}&\\frac{1}{3}&0&0&1&0&0\n",
    "      \\\\0&0&\\frac{1}{3}&0&0&0&1&0\n",
    "      \\\\0&0&\\frac{1}{3}&0&0&0&0&1\n",
    "      \\end{bmatrix}$$\n",
    "\\\n",
    "\\\n",
    "El vector del estado inicial corresponde al punto cero, donde nuestro laser emite la luz:\n",
    "\n",
    "$$V = \\begin{bmatrix}1\n",
    "      \\\\0\n",
    "      \\\\0\n",
    "      \\\\0\n",
    "      \\\\0\n",
    "      \\\\0\n",
    "      \\\\0\n",
    "      \\\\0\n",
    "      \\end{bmatrix}$$"
   ]
  },
  {
   "cell_type": "code",
   "execution_count": 19,
   "metadata": {},
   "outputs": [
    {
     "data": {
      "image/png": "[encoded data removed]",
      "text/plain": [
       "<Figure size 432x288 with 1 Axes>"
      ]
     },
     "metadata": {
      "needs_background": "light"
     },
     "output_type": "display_data"
    },
    {
     "data": {
      "image/png": "[encoded data removed]",
      "text/plain": [
       "<Figure size 432x288 with 1 Axes>"
      ]
     },
     "metadata": {
      "needs_background": "light"
     },
     "output_type": "display_data"
    },
    {
     "data": {
      "image/png": "[encoded data removed]",
      "text/plain": [
       "<Figure size 432x288 with 1 Axes>"
      ]
     },
     "metadata": {
      "needs_background": "light"
     },
     "output_type": "display_data"
    }
   ],
   "source": [
    "import Simulador as s\n",
    "\n",
    "# Definimos la matriz de adyacencia del sistema\n",
    "A = [[(0,0),(0,0),(0,0),(0,0),(0,0),(0,0),(0,0),(0,0)],\n",
    "     [(1/2,0),(0,0),(0,0),(0,0),(0,0),(0,0),(0,0),(0,0)],\n",
    "     [(1/2,0),(0,0),(0,0),(0,0),(0,0),(0,0),(0,0),(0,0)],\n",
    "     [(0,0),(1/3,0),(0,0),(1,0),(0,0),(0,0),(0,0),(0,0)],\n",
    "     [(0,0),(1/3,0),(0,0),(0,0),(1,0),(0,0),(0,0),(0,0)],\n",
    "     [(0,0),(1/3,0),(1/3,0),(0,0),(0,0),(1,0),(0,0),(0,0)],\n",
    "     [(0,0),(0,0),(1/3,0),(0,0),(0,0),(0,0),(1,0),(0,0)],\n",
    "     [(0,0),(0,0),(1/3,0),(0,0),(0,0),(0,0),(0,0),(1,0)]]\n",
    "\n",
    "# Definimos el vector de estado inicial.\n",
    "B = [[(1,0)],\n",
    "     [(0,0)],\n",
    "     [(0,0)],\n",
    "     [(0,0)],\n",
    "     [(0,0)],\n",
    "     [(0,0)],\n",
    "     [(0,0)],\n",
    "     [(0,0)]]\n",
    "\n",
    "# Ejecutamos la funcion que simula y grafica la dinamica del sistema con 0,1 y 2 clicks de tiempo.\n",
    "s.simulador(A,B,0)\n",
    "s.simulador(A,B,1)\n",
    "s.simulador(A,B,2)"
   ]
  },
  {
   "cell_type": "markdown",
   "metadata": {},
   "source": [
    "Como observamos en el grafo correspondiente a cero clicks, el fotón se encuentra en el punto cero. Es su estado inicial.\n",
    "Posteriormente el fotón pasa la rendija y como tenemos dos orificios, tiene la mitad de probabilidad de entrar en cada uno de ellos, eso es lo que nos indica el grafico correspondiente a 1 click de tiempo. Finalmente el fotón puede tener tres destinos diferentes al entrar por cada uno de los orificios de la rendija, por lo tanto la probabilidad es 1/3 multiplicada por la probabilidad del caso anterior, pero si observamos claramente el grafo correspondiente a esta situación, es evidente que hay un punto en común al cruzar por cada rendija lo que produce que la probabilidad de este sea el doble ya que se suman."
   ]
  },
  {
   "cell_type": "markdown",
   "metadata": {},
   "source": [
    "## Experimento de la doble rendija (cuántico)"
   ]
  },
  {
   "cell_type": "markdown",
   "metadata": {},
   "source": [
    "<img src = \"images/Grafo2.jpg\"\n",
    "     style = \"float:center\"\n",
    "     width = \"100%\"\n",
    "     display = inline/>"
   ]
  },
  {
   "cell_type": "markdown",
   "metadata": {},
   "source": [
    "Las matrices de adyacencia asociadas a estos grafos las definiremos de la siguiente manera:\n",
    "\\\n",
    "\\\n",
    "\\\n",
    "$$M = \\begin{bmatrix}0&0&0&0&0&0&0&0\n",
    "      \\\\\\frac{1}{\\sqrt{2}}&0&0&0&0&0&0&0\n",
    "      \\\\\\frac{1}{\\sqrt{2}}&0&0&0&0&0&0&0\n",
    "      \\\\0&\\frac{-1+i}{\\sqrt{6}}&0&1&0&0&0&0\n",
    "      \\\\0&\\frac{-1-i}{\\sqrt{6}}&0&0&1&0&0&0\n",
    "      \\\\0&\\frac{1-i}{\\sqrt{6}}&\\frac{-1+i}{\\sqrt{6}}&0&0&1&0&0\n",
    "      \\\\0&0&\\frac{-1-i}{\\sqrt{6}}&0&0&0&1&0\n",
    "      \\\\0&0&\\frac{1-i}{\\sqrt{6}}&0&0&0&0&1\n",
    "      \\end{bmatrix}$$"
   ]
  },
  {
   "cell_type": "code",
   "execution_count": 20,
   "metadata": {},
   "outputs": [
    {
     "data": {
      "image/png": "[encoded data removed]",
      "text/plain": [
       "<Figure size 432x288 with 1 Axes>"
      ]
     },
     "metadata": {
      "needs_background": "light"
     },
     "output_type": "display_data"
    },
    {
     "data": {
      "image/png": "[encoded data removed]",
      "text/plain": [
       "<Figure size 432x288 with 1 Axes>"
      ]
     },
     "metadata": {
      "needs_background": "light"
     },
     "output_type": "display_data"
    },
    {
     "data": {
      "image/png": "[encoded data removed]",
      "text/plain": [
       "<Figure size 432x288 with 1 Axes>"
      ]
     },
     "metadata": {
      "needs_background": "light"
     },
     "output_type": "display_data"
    }
   ],
   "source": [
    "import math\n",
    "\n",
    "# Definimos la matriz de adyacencia del sistema\n",
    "A = [[(0,0),(0,0),(0,0),(0,0),(0,0),(0,0),(0,0),(0,0)],\n",
    "     [(1/math.sqrt(2),0),(0,0),(0,0),(0,0),(0,0),(0,0),(0,0),(0,0)],\n",
    "     [(1/math.sqrt(2),0),(0,0),(0,0),(0,0),(0,0),(0,0),(0,0),(0,0)],\n",
    "     [(0,0),(-1/math.sqrt(6),1/math.sqrt(6)),(0,0),(1,0),(0,0),(0,0),(0,0),(0,0)],\n",
    "     [(0,0),(-1/math.sqrt(6),-1/math.sqrt(6)),(0,0),(0,0),(1,0),(0,0),(0,0),(0,0)],\n",
    "     [(0,0),(1/math.sqrt(6),-1/math.sqrt(6)),(-1/math.sqrt(6),1/math.sqrt(6)),(0,0),(0,0),(1,0),(0,0),(0,0)],\n",
    "     [(0,0),(0,0),(-1/math.sqrt(6),-1/math.sqrt(6)),(0,0),(0,0),(0,0),(1,0),(0,0)],\n",
    "     [(0,0),(0,0),(1/math.sqrt(6),-1/math.sqrt(6)),(0,0),(0,0),(0,0),(0,0),(1,0)]]\n",
    "\n",
    "# Definimos el vector de estado inicial.\n",
    "B = [[(1,0)],\n",
    "     [(0,0)],\n",
    "     [(0,0)],\n",
    "     [(0,0)],\n",
    "     [(0,0)],\n",
    "     [(0,0)],\n",
    "     [(0,0)],\n",
    "     [(0,0)]]\n",
    "\n",
    "\n",
    "# Ejecutamos la funcion que simula y grafica la dinamica del sistema con 0,1 y 2 clicks de tiempo.\n",
    "s.simuladorCuantico(A,B,0)\n",
    "s.simuladorCuantico(A,B,1)\n",
    "s.simuladorCuantico(A,B,2)"
   ]
  },
  {
   "cell_type": "markdown",
   "metadata": {},
   "source": [
    "En el grafico correspondiente a un click de tiempo, vemos el estado inicial de la partícula.En el segundo grafico vemos las dos posibles opciones que tiene el fotón, exactamente como ocurre en el sistema anterior. En el último grafico esperaríamos el mismo resultado pero como consecuencia de un fenómeno físico que se relaciona con las ondas y con la naturaleza ondulatoria de la luz, lo cual hace que dos fotones que están en el mismo lugar, se anulen."
   ]
  },
  {
   "cell_type": "markdown",
   "metadata": {},
   "source": [
    "## Reseña\n",
    "\n",
    "El experimento de la doble rendija, también llamado experimento de Young, fue propuesto en 1801 por Thomas Young un científico ingles, él quería analizar y describir como es el movimiento de las ondas que generan la luz al ser interferidas por objetos. Logró predecir el movimiento de estas y demostrar que al ser interferida se crean perturbaciones que pueden encontrarse en un punto común y allí pueden estar en dos situaciones posibles, fase común que ambas están en el punto más alto y se construye la onda inicial o en oposición de fase, lo que produce que se anule la onda.\n",
    "\n",
    "Conseguir esto no requiere de un equipo o herramientas complejas, en nuestro caso hicimos uso de un láser de luz roja, papel aluminio y una base en cartón para sostenerlos. El factor fundamental para lograr la correcta ejecución del experimento es distanciar de forma precisa las rendijas para que la onda se interfiera y diera ese efecto de separación.\n",
    "\n",
    "#### Este es el resultado de la interferencia sobre la luz del laser.\n",
    "\n",
    "<img src = \"images/img1.jpg\"\n",
    "     style = \"float:center\"\n",
    "     width = \"80%\"\n",
    "     display = inline/>\n",
    "   \n",
    "#### Aquí observamos algunos elementos usados para el experimento.   \n",
    "\n",
    "<img src = \"images/img2.jpg\"\n",
    "     style = \"float:center\"\n",
    "     width = \"80%\"\n",
    "     display = inline/>\n",
    "\n",
    "\n",
    "### Bibliografia\n",
    "\n",
    "https://fisicatabu.com/el-experimento-de-la-doble-rendija/\n",
    "\n",
    "https://es.wikipedia.org/wiki/Experimento_de_Young"
   ]
  }
 ],
 "metadata": {
  "kernelspec": {
   "display_name": "Python 3",
   "language": "python",
   "name": "python3"
  },
  "language_info": {
   "codemirror_mode": {
    "name": "ipython",
    "version": 3
   },
   "file_extension": ".py",
   "mimetype": "text/x-python",
   "name": "python",
   "nbconvert_exporter": "python",
   "pygments_lexer": "ipython3",
   "version": "3.7.4"
  }
 },
 "nbformat": 4,
 "nbformat_minor": 2
}
